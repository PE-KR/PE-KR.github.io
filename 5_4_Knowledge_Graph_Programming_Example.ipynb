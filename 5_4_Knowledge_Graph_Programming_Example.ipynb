{
  "nbformat": 4,
  "nbformat_minor": 0,
  "metadata": {
    "colab": {
      "name": "5.4 - Knowledge Graph Programming Example.ipynb",
      "provenance": [],
      "collapsed_sections": [],
      "include_colab_link": true
    },
    "kernelspec": {
      "name": "python3",
      "display_name": "Python 3"
    }
  },
  "cells": [
    {
      "cell_type": "markdown",
      "metadata": {
        "id": "view-in-github",
        "colab_type": "text"
      },
      "source": [
        "<a href=\"https://colab.research.google.com/github/PE-KR/PE-KR.github.io/blob/master/5_4_Knowledge_Graph_Programming_Example.ipynb\" target=\"_parent\"><img src=\"https://colab.research.google.com/assets/colab-badge.svg\" alt=\"Open In Colab\"/></a>"
      ]
    },
    {
      "cell_type": "markdown",
      "metadata": {
        "id": "-_MNFKNYyrDH"
      },
      "source": [
        "# **Scientific Birthdays Example**\n",
        "\n",
        "This is the python notebook example for lecture 5.4 Knowledge Graph Programming, of the OpenHPI lecture \"Knowledge Graphs 2020\".\n",
        "\n",
        "*Please make a copy of this notebook to try out your own adaptions via \"File -> Save Copy in Drive\"*"
      ]
    },
    {
      "cell_type": "markdown",
      "metadata": {
        "id": "SHxdpQlK7pcg"
      },
      "source": [
        "First, we have to install the **sparqlwrapper library** before we can use it with the notebook."
      ]
    },
    {
      "cell_type": "code",
      "metadata": {
        "id": "SDrJejgTvAE9",
        "colab": {
          "base_uri": "https://localhost:8080/"
        },
        "outputId": "05feefec-19a1-4c33-f257-490d485757e8"
      },
      "source": [
        "!pip install -q sparqlwrapper    #install SPARQLwrapper"
      ],
      "execution_count": null,
      "outputs": [
        {
          "output_type": "stream",
          "text": [
            "\u001b[K     |████████████████████████████████| 235kB 6.7MB/s \n",
            "\u001b[K     |████████████████████████████████| 51kB 4.5MB/s \n",
            "\u001b[?25h"
          ],
          "name": "stdout"
        }
      ]
    },
    {
      "cell_type": "markdown",
      "metadata": {
        "id": "ZRzOrb06zKfH"
      },
      "source": [
        "We are going to use a few libraries:\n",
        "\n",
        "\n",
        "\n",
        "*   **datetime** for date formatting and interpretation\n",
        "*   **SPARQLWrapper** to execute SPARQL queries and to import the results into python\n",
        "\n",
        "Thus, we will import them now.\n",
        "\n"
      ]
    },
    {
      "cell_type": "code",
      "metadata": {
        "id": "SJXrilamub6T"
      },
      "source": [
        "from datetime import datetime\n",
        "from SPARQLWrapper import SPARQLWrapper, JSON, XML, N3, RDF"
      ],
      "execution_count": null,
      "outputs": []
    },
    {
      "cell_type": "markdown",
      "metadata": {
        "id": "8zIgKA2pznsI"
      },
      "source": [
        "We will use DBpedia (http://dbpedia.org/sparql) as our SPARQL endpoint"
      ]
    },
    {
      "cell_type": "code",
      "metadata": {
        "id": "ASV8cGgcvuR-"
      },
      "source": [
        "sparql = SPARQLWrapper(\"http://dbpedia.org/sparql\") #determine SPARQL endpoint"
      ],
      "execution_count": null,
      "outputs": []
    },
    {
      "cell_type": "markdown",
      "metadata": {
        "id": "0fmehvshztYt"
      },
      "source": [
        "Next comes the query example from the lecture and its execution"
      ]
    },
    {
      "cell_type": "code",
      "metadata": {
        "id": "uRSTc_aqv7vG"
      },
      "source": [
        "#SPARQL query to be executed\n",
        "sparql.setQuery(\"\"\"\n",
        "PREFIX rdf: <http://www.w3.org/1999/02/22-rdf-syntax-ns#>\n",
        "PREFIX dbo: <http://dbpedia.org/ontology/>\n",
        "PREFIX rdfs: <http://www.w3.org/2000/01/rdf-schema#>\n",
        "PREFIX dc:  <http://purl.org/dc/elements/1.1/>\n",
        "\n",
        "Select distinct ?birthdate ?thumbnail ?scientist ?name ?description  WHERE {\n",
        "?scientist rdf:type dbo:Scientist ;\n",
        "        dbo:birthDate ?birthdate ;\n",
        "        rdfs:label ?name ;\n",
        "        rdfs:comment ?description \n",
        " FILTER ((lang(?name)=\"en\")&&(lang(?description)=\"en\")&&(STRLEN(STR(?birthdate))>6)&&(SUBSTR(STR(?birthdate),6)=SUBSTR(STR(bif:curdate('')),6))) .\n",
        " OPTIONAL { ?scientist dbo:thumbnail ?thumbnail . }\n",
        "} ORDER BY ?birthdate\n",
        "\"\"\")\n",
        "\n",
        "sparql.setReturnFormat(JSON)   # Return format is JSON\n",
        "results = sparql.query().convert()   # execute SPARQL query and write result to \"results\""
      ],
      "execution_count": null,
      "outputs": []
    },
    {
      "cell_type": "markdown",
      "metadata": {
        "id": "CrscD2mAz5Md"
      },
      "source": [
        "The results are now formatted in HTML encoding to be displayed nicely in a browser"
      ]
    },
    {
      "cell_type": "code",
      "metadata": {
        "id": "_xp1YyQ2wU50",
        "colab": {
          "base_uri": "https://localhost:8080/"
        },
        "outputId": "1fb2c06f-f38c-4f9f-b906-8b99a4b9fa7f"
      },
      "source": [
        "# Create HTML output\n",
        "print('<html><head><title>Scientific Birthdays of Today</title></head>')\n",
        "\n",
        "#extract Weekday %A / Month %B / Day of the Month %d by formatting today's date accordingly\n",
        "date = datetime.today().strftime(\"%A  %B %d\")\n",
        "print('<body><h1>Scientific Birthdays of {}</h1>'.format(date))\n",
        "\n",
        "print('<ul>')\n",
        "\n",
        "for result in results[\"results\"][\"bindings\"]:\n",
        "\tif (\"scientist\" in result):\n",
        "\t    #Create a Wikipedia Link\n",
        "  \t\twikiurl = \"http://en.wikipedia.org/wiki/\" + result[\"scientist\"][\"value\"].split('/')[-1]\n",
        "\telse:\n",
        "\t\twikiurl = 'NONE'  \n",
        "\tif (\"name\" in result):\n",
        "  \t\tname = result[\"name\"][\"value\"]\n",
        "\telse:\n",
        "\t\tname = 'NONE'  \t\t\n",
        "\tif (\"birthdate\" in result):\n",
        "\t\tbirthdate = result[\"birthdate\"][\"value\"]\n",
        "\telse:\n",
        "\t\tbirthdate = 'NONE'        \n",
        "\tif (\"description\" in result):\n",
        "\t\tdescription = result[\"description\"][\"value\"]\n",
        "\telse:\n",
        "\t\tdescription = ' '  \n",
        "\tif (\"thumbnail\" in result):\n",
        "\t\tpic = result[\"thumbnail\"][\"value\"]\n",
        "\telse:\n",
        "\t\tpic = 'https://upload.wikimedia.org/wikipedia/commons/thumb/b/b0/Question_mark2.svg/71px-Question_mark2.svg.png'        \t\n",
        "\n",
        "\n",
        "\t#parse date as datetime\n",
        "\tdt = datetime.strptime(birthdate, '%Y-%m-%d')\n",
        "  \n",
        "#\tprint '<li><b>{}</b> --  <a href=\"{}\">{}</a>, {} </li>'.format(dt.year, url, name, description)\n",
        "\tprint('<li><b>{}</b> -- <img src=\"{}\" height=\"60px\"> <a href=\"{}\">{}</a>, {} </li>'.format(dt.year, pic.replace(\"300\", \"60\"), wikiurl, name, description))\n",
        "\n",
        "print('</ul>')\n",
        "print('</body></html>')"
      ],
      "execution_count": null,
      "outputs": [
        {
          "output_type": "stream",
          "text": [
            "<html><head><title>Scientific Birthdays of Today</title></head>\n",
            "<body><h1>Scientific Birthdays of Saturday  November 28</h1>\n",
            "<ul>\n",
            "<li><b>1700</b> -- <img src=\"http://commons.wikimedia.org/wiki/Special:FilePath/The_Reverend_Nathaniel_Bliss.jpg?width=60\" height=\"60px\"> <a href=\"http://en.wikipedia.org/wiki/Nathaniel_Bliss\">Nathaniel Bliss</a>, The Reverend Nathaniel Bliss (28 November 1700 – 2 September 1764) was an English astronomer of the 18th century, serving as Britain's fourth Astronomer Royal between 1762 and 1764. </li>\n",
            "<li><b>1772</b> -- <img src=\"http://commons.wikimedia.org/wiki/Special:FilePath/Luke_Howard.jpg?width=60\" height=\"60px\"> <a href=\"http://en.wikipedia.org/wiki/Luke_Howard\">Luke Howard</a>, Luke Howard, FRS (28 November 1772 – 21 March 1864) was a British manufacturing chemist and an amateur meteorologist with broad interests in science. His lasting contribution to science is a nomenclature system for clouds, which he proposed in an 1802 presentation to the Askesian Society. </li>\n",
            "<li><b>1805</b> -- <img src=\"http://commons.wikimedia.org/wiki/Special:FilePath/Incidents_of_Travel_in_Central_America_portrait.png?width=60\" height=\"60px\"> <a href=\"http://en.wikipedia.org/wiki/John_Lloyd_Stephens\">John Lloyd Stephens</a>, John Lloyd Stephens was born November 28, 1805, in the township of Shrewsbury, New Jersey. He was the second son of Benjamin Stephens, a successful New Jersey merchant, and Clemence Lloyd, daughter of an eminent local judge. The following year the family moved to New York City. There Stephens received an education in the Classics at two privately tutored schools. At the early age of 13 he enrolled at Columbia College, graduating at the top of his class four years later in 1822. </li>\n",
            "<li><b>1831</b> -- <img src=\"http://commons.wikimedia.org/wiki/Special:FilePath/Roberts_Bartholow.jpg?width=60\" height=\"60px\"> <a href=\"http://en.wikipedia.org/wiki/Robert_Bartholow\">Robert Bartholow</a>, Robert Bartholow or Roberts Bartholow (November 28, 1831 – May 10, 1904) was an American physician from New Windsor, Maryland. He earned his degree in medicine from the University of Maryland in 1852. From 1855 to 1864 he was a surgeon in the U.S. Army. From 1864 to 1879 he was a professor at the Medical College of Ohio in Cincinnati. Afterwards he was a professor at the Jefferson Medical College in Philadelphia. </li>\n",
            "<li><b>1834</b> -- <img src=\"http://commons.wikimedia.org/wiki/Special:FilePath/LaspeyresE.jpg?width=60\" height=\"60px\"> <a href=\"http://en.wikipedia.org/wiki/Étienne_Laspeyres\">Étienne Laspeyres</a>, Ernst Louis Étienne Laspeyres (28 November 1834 – 4 August 1913) was Professor ordinarius of economics and statistics or State Sciences and cameralistics (public finance and administration) in Basel, Riga, Dorpat (now Tartu), Karlsruhe, and finally for 26 years in Gießen. Laspeyres was the scion of a Huguenot family of originally Gascon descent which had settled in Berlin in the 17th century, and he emphasised the Occitan pronunciation of his name as a link to his Gascon origins. </li>\n",
            "<li><b>1837</b> -- <img src=\"http://commons.wikimedia.org/wiki/Special:FilePath/Dr._Noah_Miller_Glatfelter_1901.jpg?width=60\" height=\"60px\"> <a href=\"http://en.wikipedia.org/wiki/Noah_Miller_Glatfelter\">Noah Miller Glatfelter</a>, Dr. Noah Miller Glatfelter was an American physician, genealogist, and amateur botanist and mycologist who lived in St. Louis, Missouri between 1867 and 1911. He served as a surgeon for the Union Army during the American Civil War, and was in private practice as a physician from the 1870s to 1907. In retirement his interests turned to botany and mycology; seven fungi have been named for him. </li>\n",
            "<li><b>1848</b> -- <img src=\"http://commons.wikimedia.org/wiki/Special:FilePath/Поль-Шарль_Дюбуа_(Paul-Charles_Dubois).jpg?width=60\" height=\"60px\"> <a href=\"http://en.wikipedia.org/wiki/Paul_Charles_Dubois\">Paul Charles Dubois</a>, He studied medicine at the University of Bern, and in 1876 was a general practitioner of medicine in Bern. He was interested in psychosomatic medicine, eventually gaining a reputation as a highly regarded psychotherapist. In 1902 he became a professor of neuropathology at Bern. Dubois was influenced by the writings of German psychiatrist Johann Christian August Heinroth (1773–1843). Dubois is known for the introduction of \"persuasion therapy\", a process that employed a rational approach for treatment of neurotic disorders. Within this discipline, he developed a psychotherapeutic methodology that was a form of Socratic dialogue, using the doctor-patient relationship as a means to persuade the patient to change his/her behavior. He believed it was necessary to appeal to a patient's intellect </li>\n",
            "<li><b>1851</b> -- <img src=\"http://commons.wikimedia.org/wiki/Special:FilePath/Philip_Herfort2.jpg?width=60\" height=\"60px\"> <a href=\"http://en.wikipedia.org/wiki/Philip_A._Herfort\">Philip A. Herfort</a>, Philip Adolph Herfort (November 28, 1851 – March 24, 1921) was a German violinist and orchestra leader. He was born in Berlin, Germany to Jewish parents, Adolph (Aron) Herfort (1818–1900) and Clara Herfort (1830–1907) née Maass. Philip Herfort married Antonie Theodore Johanne Lupprian on December 15, 1877 in New York City and fathered four children: Sophie (1879–1966), Paul (1880–1967), Gunther (1888–1986), and Walter (1886–1887). Philip Herfort died on March 24, 1921 in Brooklyn, New York and is buried in Green-Wood Cemetery. </li>\n",
            "<li><b>1854</b> -- <img src=\"http://commons.wikimedia.org/wiki/Special:FilePath/Gottlieb_Haberlandt.jpg?width=60\" height=\"60px\"> <a href=\"http://en.wikipedia.org/wiki/Gottlieb_Haberlandt\">Gottlieb Haberlandt</a>, Gottlieb Haberlandt (28 November 1854, Ungarisch-Altenburg (present day Magyaróvár) – 30 January 1945, Berlin) was an Austrian botanist. He was the son of European 'soybean' pioneer Professor Friedrich J. Haberlandt. His son Ludwig Haberlandt was an early reproductive physiologist now given credit as the 'grandfather' of the birth control pill, the pill. The more efficient C-4 photosynthesis in land plants depends on a specialized Kranz (German for wreath) leaf anatomy History of C3 : C4 photosynthesis research first described by Gottlieb Haberlandt in 1904 </li>\n",
            "<li><b>1858</b> -- <img src=\"http://commons.wikimedia.org/wiki/Special:FilePath/William-Stanley_jr.jpg?width=60\" height=\"60px\"> <a href=\"http://en.wikipedia.org/wiki/William_Stanley_Jr.\">William Stanley Jr.</a>, William Stanley Jr. (November 28, 1858 – May 14, 1916) was an American physicist born in Brooklyn, New York. In his career, he obtained 129 patents covering a variety of electric devices. In 1913, he also patented an all-steel vacuum bottle, and formed the Stanley Bottle Company. </li>\n",
            "<li><b>1863</b> -- <img src=\"http://commons.wikimedia.org/wiki/Special:FilePath/Arthur_Gordon_Webster.png?width=60\" height=\"60px\"> <a href=\"http://en.wikipedia.org/wiki/Arthur_Gordon_Webster\">Arthur Gordon Webster</a>, Arthur Gordon Webster (November 28, 1863 – May 15, 1923), physicist, was a founder and president of the American Physical Society. </li>\n",
            "<li><b>1869</b> -- <img src=\"http://commons.wikimedia.org/wiki/Special:FilePath/Albert_Jenks_portrait.jpg?width=60\" height=\"60px\"> <a href=\"http://en.wikipedia.org/wiki/Albert_Jenks\">Albert Jenks</a>, Albert Ernest Jenks (1869–1953) was an American anthropologist and a professor at the University of Minnesota. He was known for his work in historical anthropological studies on rice cultivation, the development of hominids, and his identification of the skeletal remains of Minnesota Woman, 8,000-year old human remains found near Pelican Rapids, Minnesota. He joined the United States Bureau of Ethnology in 1901 and served in the U.S. colonial government of the Philippines from 1902 to 1905. In this capacity, he was involved in the exhibition of Bontoc Igorot people at the 1904 Louisiana Universal Exposition in St. Louis (St. Louis World's Fair). The collection of Bontoc objects that he assembled for the Exposition was purchased by the American Museum of Natural History in New York. He join </li>\n",
            "<li><b>1876</b> -- <img src=\"http://commons.wikimedia.org/wiki/Special:FilePath/Oscar_Edward_Meinzer_photo.jpeg?width=60\" height=\"60px\"> <a href=\"http://en.wikipedia.org/wiki/Oscar_Edward_Meinzer\">Oscar Edward Meinzer</a>, Oscar Edward Meinzer (November 28, 1876 – June 14, 1948) was an American hydrogeologist who has been called the \"father of modern groundwater hydrology\". He was awarded the William Bowie Medal in 1943. The O. E. Meinzer award is named for him. </li>\n",
            "<li><b>1896</b> -- <img src=\"http://commons.wikimedia.org/wiki/Special:FilePath/J.Koffler31.jpg?width=60\" height=\"60px\"> <a href=\"http://en.wikipedia.org/wiki/Józef_Koffler\">Józef Koffler</a>, Józef Koffler (28 November 1896 – 1944) was a Polish composer, music teacher, musicologist and musical columnist. He was the first Polish composer living before the Second World War to apply the twelve-tone composition technique (dodecaphony). </li>\n",
            "<li><b>1896</b> -- <img src=\"http://commons.wikimedia.org/wiki/Special:FilePath/1933_Andrussow_Leonid.jpg?width=60\" height=\"60px\"> <a href=\"http://en.wikipedia.org/wiki/Leonid_Andrussow\">Leonid Andrussow</a>, Leonid Andrussow (28 November 1896 in Riga – 15 December 1988 near Paris) was a German chemical engineer. He developed the process for the production of hydrogen cyanide based on the oxidation of ammonia and methane, which is named after him Andrussow oxidation. </li>\n",
            "<li><b>1898</b> -- <img src=\"http://commons.wikimedia.org/wiki/Special:FilePath/JohnWishart.jpg?width=60\" height=\"60px\"> <a href=\"http://en.wikipedia.org/wiki/John_Wishart_(statistician)\">John Wishart (statistician)</a>, Dr John Wishart FRSE (28 November 1898 – 14 July 1956) was a Scottish mathematician and agricultural statistician. He worked successively at University College London with Karl Pearson, at Rothamsted Experimental Station with Ronald Fisher, and then as a leader in statistics in the University of Cambridge where he became the first Director of the Statistical Laboratory in 1953. He was elected a Fellow of the Royal Society of Edinburgh in 1931, and edited Biometrika from 1937. In 1950 he was elected as a Fellow of the American Statistical Association. The Wishart distribution is named after him. </li>\n",
            "<li><b>1905</b> -- <img src=\"https://upload.wikimedia.org/wikipedia/commons/thumb/b/b0/Question_mark2.svg/71px-Question_mark2.svg.png\" height=\"60px\"> <a href=\"http://en.wikipedia.org/wiki/Albert_W._Tucker\">Albert W. Tucker</a>, Albert William Tucker (28 November 1905 – 25 January 1995) was a Canadian mathematician who made important contributions in topology, game theory, and non-linear programming. </li>\n",
            "<li><b>1905</b> -- <img src=\"https://upload.wikimedia.org/wikipedia/commons/thumb/b/b0/Question_mark2.svg/71px-Question_mark2.svg.png\" height=\"60px\"> <a href=\"http://en.wikipedia.org/wiki/Clarence_Ray_Carpenter\">Clarence Ray Carpenter</a>, Clarence Ray Carpenter (usually credited as C. R. Carpenter) (November 28, 1905 – March 1, 1975) was an American primatologist who was one of the first scientific investigators to film and videotape the behavior of primates in their natural environments. Born in Cherryville in Lincoln County, North Carolina, Carpenter earned his Bachelor of Science (1928) and Master of Science (1929) degrees at Duke University and his Doctor of Philosophy (1932) degree at Stanford University. </li>\n",
            "<li><b>1906</b> -- <img src=\"http://en.wikipedia.org/wiki/Special:FilePath/Leonidas_D_Marinelli.png?width=60\" height=\"60px\"> <a href=\"http://en.wikipedia.org/wiki/Leonidas_D._Marinelli\">Leonidas D. Marinelli</a>, Leonidas D. Marinelli (28 November 1906 – 13 September 1974), was born in Argentina and died in Hinsdale, DuPage County, Illinois was an American radiologist, health physicist and inventor. </li>\n",
            "<li><b>1907</b> -- <img src=\"http://commons.wikimedia.org/wiki/Special:FilePath/Hallam_L_Movius.jpg?width=60\" height=\"60px\"> <a href=\"http://en.wikipedia.org/wiki/Hallam_L._Movius\">Hallam L. Movius</a>, Hallam Leonard Movius (1907–1987) was an American archaeologist most famous for his work on the Palaeolithic period. </li>\n",
            "<li><b>1913</b> -- <img src=\"https://upload.wikimedia.org/wikipedia/commons/thumb/b/b0/Question_mark2.svg/71px-Question_mark2.svg.png\" height=\"60px\"> <a href=\"http://en.wikipedia.org/wiki/Cliff_Addison\">Cliff Addison</a>, Addison was a member of the Chemical Inspection Department, Ministry of Supply from 1939 to 1945. He was Lecturer, Reader and Professor of Inorganic Chemistry, University of Nottingham from 1946 to 1978, and Leverhulme Emeritus Professor from 1978 to 1994. </li>\n",
            "<li><b>1914</b> -- <img src=\"https://upload.wikimedia.org/wikipedia/commons/thumb/b/b0/Question_mark2.svg/71px-Question_mark2.svg.png\" height=\"60px\"> <a href=\"http://en.wikipedia.org/wiki/Arthur_Wilson_(crystallographer)\">Arthur Wilson (crystallographer)</a>, Arthur James Cochran Wilson, FRS (28 November 1914 - 1 July 1995) was a Canadian crystallographer. He was born in Springhill, Nova Scotia. He was educated at King's Collegiate School, Windsor, Nova Scotia and Dalhousie University, Halifax, Nova Scotia where he was awarded a BSc in 1934 and an MSc in 1936. He then proceeded to the Massachusetts Institute of Technology, where he received his first PhD in 1938 on the anomalous thermal behaviour of the ferro-electric Rochelle salt. In 1963 he was elected a Fellow of the Royal Society. </li>\n",
            "<li><b>1915</b> -- <img src=\"https://upload.wikimedia.org/wikipedia/commons/thumb/b/b0/Question_mark2.svg/71px-Question_mark2.svg.png\" height=\"60px\"> <a href=\"http://en.wikipedia.org/wiki/Bryant_Tuckerman\">Bryant Tuckerman</a>, Louis Bryant Tuckerman, III (November 28, 1915 – May 19, 2002) was an American mathematician, born in Lincoln, Nebraska. He was a member of the team that developed the Data Encryption Standard (DES). He studied topology at Princeton, where he invented the Tuckerman traverse method for revealing all the faces of a flexagon. Also, on March 4, 1971, he discovered the 24th Mersenne prime, a titanic prime, with a value of . </li>\n",
            "<li><b>1916</b> -- <img src=\"https://upload.wikimedia.org/wikipedia/commons/thumb/b/b0/Question_mark2.svg/71px-Question_mark2.svg.png\" height=\"60px\"> <a href=\"http://en.wikipedia.org/wiki/Boris_Bittker\">Boris Bittker</a>, Boris Irving Bittker (November 28, 1916 – September 8, 2005) was a prominent United States legal academician. A professor at Yale Law School, Bittker was a prolific author, writing many textbooks and over one hundred articles on tax law. In 1973, Bittker wrote The Case for Black Reparations, inspired by SNCC leader James Forman, who in 1969 interrupted a church service to demand reparations for slavery. Bittker defended the spirit of Forman's appeal, but argued that a reparations lawsuit for school segregation had a stronger legal basis. </li>\n",
            "<li><b>1918</b> -- <img src=\"https://upload.wikimedia.org/wikipedia/commons/thumb/b/b0/Question_mark2.svg/71px-Question_mark2.svg.png\" height=\"60px\"> <a href=\"http://en.wikipedia.org/wiki/Peter_M._Holt\">Peter M. Holt</a>, Peter Malcolm Holt, FBA (28 November 1918 – 2 November 2006) was a historian of the Middle East and Sudan in particular. </li>\n",
            "<li><b>1922</b> -- <img src=\"https://upload.wikimedia.org/wikipedia/commons/thumb/b/b0/Question_mark2.svg/71px-Question_mark2.svg.png\" height=\"60px\"> <a href=\"http://en.wikipedia.org/wiki/Meyer_Jerison\">Meyer Jerison</a>, Meyer Jerison (November 28, 1922 – March 13, 1995) was an American mathematician known for his work in functional analysis and rings, and especially for collaborating with Leonard Gillman on one of the standard texts in the field: Rings of Continuous Functions. Jerison worked briefly at NACA in Cleveland and at Lockheed Corporation. He joined the mathematics faculty at Purdue University in 1951, where he spent the remainder of his career, retiring in 1991. </li>\n",
            "<li><b>1924</b> -- <img src=\"http://commons.wikimedia.org/wiki/Special:FilePath/Prof._Herwig_Schopper_was_the_Director_General_of_CERN_(1981-1988).jpg?width=60\" height=\"60px\"> <a href=\"http://en.wikipedia.org/wiki/Herwig_Schopper\">Herwig Schopper</a>, Herwig Franz Schopper, (born on 28 February 1924) is an experimental physicist and was the Director General of CERN from 1981 to 1988. </li>\n",
            "<li><b>1926</b> -- <img src=\"https://upload.wikimedia.org/wikipedia/commons/thumb/b/b0/Question_mark2.svg/71px-Question_mark2.svg.png\" height=\"60px\"> <a href=\"http://en.wikipedia.org/wiki/Vincent_Massey_(enzymologist)\">Vincent Massey (enzymologist)</a>, Vincent Massey (November 28, 1926 – August 26, 2002) was an Australian biochemist and enzymologist best known for his contributions to the study of flavoenzymes. Massey was elected to the National Academy of Sciences in 1995 for his use of physical biochemistry to relate flavin chemistry to flavin enzymology. </li>\n",
            "<li><b>1931</b> -- <img src=\"http://commons.wikimedia.org/wiki/Special:FilePath/Фото_Федорова.jpg?width=60\" height=\"60px\"> <a href=\"http://en.wikipedia.org/wiki/Irina_Konstantinovna_Feodorova\">Irina Konstantinovna Feodorova</a>, Feodorova was born in Leningrad in 1931. Her father, Konstantin Andreevich Mozhajsky, worked in a printing house. Her mother, Lydia Romanovna Steinberg taught German at schools in Leningrad. Feodorova and her husband, Mikhail Lvovich Fedorov, had one daughter, Olga Fedorova. </li>\n",
            "<li><b>1935</b> -- <img src=\"https://upload.wikimedia.org/wikipedia/commons/thumb/b/b0/Question_mark2.svg/71px-Question_mark2.svg.png\" height=\"60px\"> <a href=\"http://en.wikipedia.org/wiki/Robert_Shapiro_(chemist)\">Robert Shapiro (chemist)</a>, Robert Shapiro (28 November 1935 – 15 June 2011) was professor emeritus of chemistry at New York University. He is best known for his work on the origin of life, having written two books on the topic: Origins, a Skeptic’s Guide to the Creation of Life on Earth (1986) and Planetary Dreams (2001). He opposed the RNA world hypothesis, and held that the spontaneous emergence of a molecule as complicated as RNA is highly unlikely. Instead, he proposed that life arose from some self-sustaining and compartmentalized reaction of simple molecules: \"metabolism first\" instead of \"RNA first\". This reaction would have to be able to reproduce and evolve, eventually leading to RNA. He claimed that in this view life is a normal consequence of the laws of nature and potentially quite common in the universe </li>\n",
            "<li><b>1939</b> -- <img src=\"https://upload.wikimedia.org/wikipedia/commons/thumb/b/b0/Question_mark2.svg/71px-Question_mark2.svg.png\" height=\"60px\"> <a href=\"http://en.wikipedia.org/wiki/Madhab_Chandra_Dash\">Madhab Chandra Dash</a>, Madhab Chandra Dash (born 1939 in Puri, Odisha) is an Indian ecologist and environmental biologist. He is currently a member of the Appellate Authority, Water (PCP) Act, 1974 Government of Orissa. He was a former Vice Chancellor of Sambalpur University (2001-2004). He is a past Chairman of the Orissa State Pollution Control Board (1997-2001) and a former member of the Central Pollution Control Board, New Delhi. </li>\n",
            "<li><b>1940</b> -- <img src=\"http://commons.wikimedia.org/wiki/Special:FilePath/StevenBrams.jpg?width=60\" height=\"60px\"> <a href=\"http://en.wikipedia.org/wiki/Steven_Brams\">Steven Brams</a>, Steven J. Brams (born November 28, 1940, in Concord, New Hampshire) is an American game theorist and political scientist at the New York University Department of Politics. Brams is best known for using the techniques of game theory, public choice theory, and social choice theory to analyze voting systems and fair division. He is one of the independent discoverers of approval voting, as well as an extension of approval voting to multiple-winner elections known as Satisfaction approval voting. </li>\n",
            "<li><b>1941</b> -- <img src=\"http://commons.wikimedia.org/wiki/Special:FilePath/Moody_Baake.jpg?width=60\" height=\"60px\"> <a href=\"http://en.wikipedia.org/wiki/Robert_Moody\">Robert Moody</a>, Robert Vaughan Moody, OC FRSC (/ˈmuːdi/; born November 28, 1941) is a Canadian mathematician. He is the co-discover of Kac–Moody algebra, a Lie algebra, usually infinite-dimensional, that can be defined through a generalized root system. Born in Great Britain, he received a Bachelor of Arts in Mathematics in 1962 from the University of Saskatchewan, a Master of Arts in Mathematics in 1964 from the University of Toronto, and a Ph.D. in Mathematics in 1966 from the University of Toronto. </li>\n",
            "<li><b>1942</b> -- <img src=\"http://commons.wikimedia.org/wiki/Special:FilePath/Brookhart_Maurice.jpg?width=60\" height=\"60px\"> <a href=\"http://en.wikipedia.org/wiki/Maurice_Brookhart\">Maurice Brookhart</a>, Maurice S. Brookhart is a Professor of Chemistry (2015 to the present) in the Department of Chemistry at the University of Houston. Brookhart received his Bachelor of Science from Johns Hopkins University in 1964. He received his Ph.D. in 1968 from the University of California, Los Angeles, in physical organic chemistry where his thesis advisor was Saul Winstein. After an NSF postdoctoral fellowship at the University of California, Los Angeles in 1968 and a NATO postdoctoral fellowship at Southampton University, England. In 1969, he joined the faculty of the University of North Carolina, where he stayed until 2015, when he joined the University of Houston as a professor of Chemistry. </li>\n",
            "<li><b>1942</b> -- <img src=\"http://en.wikipedia.org/wiki/Special:FilePath/Victor_Fadin_Lecturing_in_BINP_1_June_2014.jpg?width=60\" height=\"60px\"> <a href=\"http://en.wikipedia.org/wiki/Victor_Sergeevich_Fadin\">Victor Sergeevich Fadin</a>, Victor Sergeevich Fadin (Russian: Виктор Сергеевич Фадин; born 28 November 1942, Poperechnoe village, Novosibirsk oblast) is a Russian physicist, well known for his contributions to theoretical physics and particle physics. He is a principal researcher at Budker Institute of Nuclear Physics (BINP) and professor of theoretical physics at Novosibirsk State University (NSU). </li>\n",
            "<li><b>1946</b> -- <img src=\"https://upload.wikimedia.org/wikipedia/commons/thumb/b/b0/Question_mark2.svg/71px-Question_mark2.svg.png\" height=\"60px\"> <a href=\"http://en.wikipedia.org/wiki/Klaus_G._Troitzsch\">Klaus G. Troitzsch</a>, Klaus G. Troitzsch (* 28. November 1946, in Ilsede-Oberg, Lower Saxony) is a German sociologist. He became famous for introducing the method of computer-based simulation in the social sciences. He was professor and director of the Institute for IS Research at University of Koblenz-Landau. </li>\n",
            "<li><b>1947</b> -- <img src=\"https://upload.wikimedia.org/wikipedia/commons/thumb/b/b0/Question_mark2.svg/71px-Question_mark2.svg.png\" height=\"60px\"> <a href=\"http://en.wikipedia.org/wiki/Inder_Verma\">Inder Verma</a>, Inder Mohan Verma (born November 28, 1947) is an American Cancer Society Professor of Molecular Biology in the Laboratory of Genetics at the Salk Institute for Biological Studies  and the University of California, San Diego. He is recognized for seminal discoveries in the fields of cancer, immunology, and gene therapy. Verma is the current editor-in-chief of the journal Proceedings of the National Academy of Sciences of the United States of America (PNAS).He is also the Jury Chair for the Infosys Prize 2013 for the discipline of Life Sciences. </li>\n",
            "<li><b>1948</b> -- <img src=\"http://commons.wikimedia.org/wiki/Special:FilePath/Alanlightman.jpg?width=60\" height=\"60px\"> <a href=\"http://en.wikipedia.org/wiki/Alan_Lightman\">Alan Lightman</a>, Alan Paige Lightman (born November 28, 1948) is an American physicist, writer, and social entrepreneur. He is a professor of the practice of the humanities at the Massachusetts Institute of Technology and the author of the international bestseller Einstein's Dreams. Einstein's Dreams has been adapted into dozens of independent theatrical productions and is one of the most widely used \"common books\" on college campuses. Lightman was the first professor at MIT to receive a joint appointment in the sciences and the humanities. He is also the founder of the Harpswell Foundation, a nonprofit organization whose mission is to empower a new generation of women leaders in Cambodia. </li>\n",
            "<li><b>1950</b> -- <img src=\"http://commons.wikimedia.org/wiki/Special:FilePath/HD.3A.054_(10541035993).jpg?width=60\" height=\"60px\"> <a href=\"http://en.wikipedia.org/wiki/Russell_Alan_Hulse\">Russell Alan Hulse</a>, Russell Alan Hulse (born November 28, 1950) is an American physicist and winner of the Nobel Prize in Physics, shared with his thesis advisor Joseph Hooton Taylor Jr., \"for the discovery of a new type of pulsar, a discovery that has opened up new possibilities for the study of gravitation\". He was a specialist in the pulsar studies and gravitational waves. </li>\n",
            "<li><b>1950</b> -- <img src=\"http://commons.wikimedia.org/wiki/Special:FilePath/Victor_Bangert.jpg?width=60\" height=\"60px\"> <a href=\"http://en.wikipedia.org/wiki/Victor_Bangert\">Victor Bangert</a>, Victor Bangert (born 28 November 1950, Osnabrück) is Professor of Mathematics at the Mathematisches Institut in Freiburg, Germany. His main interests are differential geometry and dynamical systems theory. In particular, he made important contributions to the study of closed geodesics in Riemannian manifolds, and to Aubry–Mather theory. </li>\n",
            "<li><b>1950</b> -- <img src=\"http://commons.wikimedia.org/wiki/Special:FilePath/Jitendranath_Goswami.jpg?width=60\" height=\"60px\"> <a href=\"http://en.wikipedia.org/wiki/Jitendra_Nath_Goswami\">Jitendra Nath Goswami</a>, Dr. Jitendranath Goswami  is a famous Indian scientist from Assam. He was the Chief Scientist of Chandrayaan-1, and also was developer of this project. He served as a director of Physical Research Laboratory situated at Ahmadabad, Gujarat. He was also associated with Chandrayaan-2 and Mangalyaan. This prominent Assamese Scientist was born in Jorhat, the knowledge city of Assam. </li>\n",
            "<li><b>1952</b> -- <img src=\"http://commons.wikimedia.org/wiki/Special:FilePath/Erich_Nigg_Wikipedia_110728_Biozentrum.jpg?width=60\" height=\"60px\"> <a href=\"http://en.wikipedia.org/wiki/Erich_Nigg\">Erich Nigg</a>, Erich Nigg is a Swiss cell biologist and Director of the Biozentrum, University of Basel. </li>\n",
            "<li><b>1956</b> -- <img src=\"http://commons.wikimedia.org/wiki/Special:FilePath/Gerald_Joyce.jpg?width=60\" height=\"60px\"> <a href=\"http://en.wikipedia.org/wiki/Gerald_Joyce\">Gerald Joyce</a>, Gerald Francis \"Jerry\" Joyce (born 1956) is a professor and researcher at The Scripps Research Institute, best known for his work on in vitro evolution of ribozymes and deoxyribozymes, as well as his work on the origin of life. Joyce received the Urey medal of the International Society for the Study of the Origin of Life (ISSOL) in 2005.In 2009, Joyce's lab was the first to produce a self-replicating in vitro system, capable of exponential growth and continuing evolution, composed entirely of RNA enzymes. </li>\n",
            "<li><b>1960</b> -- <img src=\"https://upload.wikimedia.org/wikipedia/commons/thumb/b/b0/Question_mark2.svg/71px-Question_mark2.svg.png\" height=\"60px\"> <a href=\"http://en.wikipedia.org/wiki/Emily_A._Carter\">Emily A. Carter</a>, Emily A. Carter (born November 28, 1960 in Los Gatos, California) is the Dean of the Princeton University School of Engineering and Applied Science and the Gerhard R. Andlinger Professor in Energy and the Environment, as well as a Professor in the Department of Mechanical and Aerospace Engineering and the Program in Applied and Computational Mathematics at Princeton University. She is an associated faculty member in the Andlinger Center for Energy and the Environment, the Department of Chemistry, the Department of Chemical and Biological Engineering, the Princeton Institute for Computational Science and Engineering (PICSciE), the Princeton Environmental Institute (PEI), and the Princeton Institute for the Science and Technology of Materials (PRISM). She was the Founding Director of the And </li>\n",
            "<li><b>1975</b> -- <img src=\"http://en.wikipedia.org/wiki/Special:FilePath/Michael-schearer.jpg?width=60\" height=\"60px\"> <a href=\"http://en.wikipedia.org/wiki/Michael_Schearer\">Michael Schearer</a>, Michael Schearer (born November 28, 1975) is an American computer security researcher and writer who is known for his research and presentations on the technology of improvised explosive devices, wireless security, cryptography, privacy, and related legal issues. He is a contributing author to multiple books on computer security, and is currently a Network Analyst for Booz Allen Hamilton. In the computer hacker community, he is known as theprez98. </li>\n",
            "</ul>\n",
            "</body></html>\n"
          ],
          "name": "stdout"
        }
      ]
    },
    {
      "cell_type": "markdown",
      "metadata": {
        "id": "0SXWT2eP-Yaf"
      },
      "source": [
        "Now, do exactly the same, but write output into a file on your local computer (to be displayed in your browser)"
      ]
    },
    {
      "cell_type": "code",
      "metadata": {
        "id": "Kvv0vRcn0jHV",
        "colab": {
          "base_uri": "https://localhost:8080/",
          "height": 17
        },
        "outputId": "8cda7511-ff88-4843-a904-bad7050400ab"
      },
      "source": [
        "from google.colab import files\n",
        "\n",
        "with open('birthday.html', 'w') as f:\n",
        "\t# Create HTML output\n",
        "\tf.write('<html><head><title>Scientific Birthdays of Today</title></head>')\n",
        "\n",
        "\t#extract Weekday %A / Month %B / Day of the Month %d by formatting today's date accordingly\n",
        "\tdate = datetime.today().strftime(\"%A  %B %d\")\n",
        "\tf.write('<body><h1>Scientific Birthdays of {}</h1>'.format(date))\n",
        "\n",
        "\tf.write('<ul>')\n",
        "\n",
        "\tfor result in results[\"results\"][\"bindings\"]:\n",
        "\t\tif (\"scientist\" in result):\n",
        "\t\t\t#Create a Wikipedia Link\n",
        "\t\t\twikiurl = \"http://en.wikipedia.org/wiki/\" + result[\"scientist\"][\"value\"].split('/')[-1]\n",
        "\t\telse:\n",
        "\t\t\twikiurl = 'NONE'  \n",
        "\t\tif (\"name\" in result):\n",
        "\t\t\tname = result[\"name\"][\"value\"]\n",
        "\t\telse:\n",
        "\t\t\tname = 'NONE'  \t\t\n",
        "\t\tif (\"birthdate\" in result):\n",
        "\t\t\tbirthdate = result[\"birthdate\"][\"value\"]\n",
        "\t\telse:\n",
        "\t\t\tbirthdate = 'NONE'        \n",
        "\t\tif (\"description\" in result):\n",
        "\t\t\tdescription = result[\"description\"][\"value\"]\n",
        "\t\telse:\n",
        "\t\t\tdescription = ' '  \n",
        "\t\tif (\"thumbnail\" in result):\n",
        "\t\t\tpic = result[\"thumbnail\"][\"value\"]\n",
        "\t\telse:\n",
        "\t\t\tpic = 'https://upload.wikimedia.org/wikipedia/commons/thumb/b/b0/Question_mark2.svg/71px-Question_mark2.svg.png'        \t\n",
        "\n",
        "\t\t#parse date as datetime\n",
        "\t\tdt = datetime.strptime(birthdate, '%Y-%m-%d')\n",
        "  \n",
        "\t\tf.write('<li><b>{}</b> <ul><li><img src=\"{}\" height=\"60px\"> <a href=\"{}\">{}</a>, {} </li></ul></li>'.format(dt.year, pic.replace(\"300\", \"60\"), wikiurl, name, description))\n",
        "\tf.write('</ul>')\n",
        "\tf.write('</body></html>')\n",
        "files.download('birthday.html')"
      ],
      "execution_count": null,
      "outputs": [
        {
          "output_type": "display_data",
          "data": {
            "application/javascript": [
              "\n",
              "    async function download(id, filename, size) {\n",
              "      if (!google.colab.kernel.accessAllowed) {\n",
              "        return;\n",
              "      }\n",
              "      const div = document.createElement('div');\n",
              "      const label = document.createElement('label');\n",
              "      label.textContent = `Downloading \"${filename}\": `;\n",
              "      div.appendChild(label);\n",
              "      const progress = document.createElement('progress');\n",
              "      progress.max = size;\n",
              "      div.appendChild(progress);\n",
              "      document.body.appendChild(div);\n",
              "\n",
              "      const buffers = [];\n",
              "      let downloaded = 0;\n",
              "\n",
              "      const channel = await google.colab.kernel.comms.open(id);\n",
              "      // Send a message to notify the kernel that we're ready.\n",
              "      channel.send({})\n",
              "\n",
              "      for await (const message of channel.messages) {\n",
              "        // Send a message to notify the kernel that we're ready.\n",
              "        channel.send({})\n",
              "        if (message.buffers) {\n",
              "          for (const buffer of message.buffers) {\n",
              "            buffers.push(buffer);\n",
              "            downloaded += buffer.byteLength;\n",
              "            progress.value = downloaded;\n",
              "          }\n",
              "        }\n",
              "      }\n",
              "      const blob = new Blob(buffers, {type: 'application/binary'});\n",
              "      const a = document.createElement('a');\n",
              "      a.href = window.URL.createObjectURL(blob);\n",
              "      a.download = filename;\n",
              "      div.appendChild(a);\n",
              "      a.click();\n",
              "      div.remove();\n",
              "    }\n",
              "  "
            ],
            "text/plain": [
              "<IPython.core.display.Javascript object>"
            ]
          },
          "metadata": {
            "tags": []
          }
        },
        {
          "output_type": "display_data",
          "data": {
            "application/javascript": [
              "download(\"download_c23902b4-e0ff-40a4-80bc-1b0c1ca092d6\", \"birthday.html\", 29457)"
            ],
            "text/plain": [
              "<IPython.core.display.Javascript object>"
            ]
          },
          "metadata": {
            "tags": []
          }
        }
      ]
    },
    {
      "cell_type": "markdown",
      "metadata": {
        "id": "b2NmCIJYb4b2"
      },
      "source": [
        "Probably, it looks abit nicer in a table..."
      ]
    },
    {
      "cell_type": "code",
      "metadata": {
        "id": "G1vp6PaVJC6G",
        "colab": {
          "base_uri": "https://localhost:8080/",
          "height": 17
        },
        "outputId": "24c1070d-447c-4892-8bbb-cab17a99d061"
      },
      "source": [
        "from google.colab import files\n",
        "\n",
        "with open('birthday.html', 'w') as f:\n",
        "\t# Create HTML output\n",
        "\tf.write('<html><head><title>Scientific Birthdays of Today</title></head>')\n",
        "\n",
        "\t#extract Weekday %A / Month %B / Day of the Month %d by formatting today's date accordingly\n",
        "\tdate = datetime.today().strftime(\"%A  %B %d\")\n",
        "\t# f.write('<body><h1>Scientific Birthdays of {}</h1>'.format(date))\n",
        "\n",
        "\tf.write('<table style=\"width:75%\">')\n",
        "\n",
        "\tfor result in results[\"results\"][\"bindings\"]:\n",
        "\t\tif (\"scientist\" in result):\n",
        "\t\t\t#Create a Wikipedia Link\n",
        "\t\t\twikiurl = \"http://en.wikipedia.org/wiki/\" + result[\"scientist\"][\"value\"].split('/')[-1]\n",
        "\t\telse:\n",
        "\t\t\twikiurl = 'NONE'  \n",
        "\t\tif (\"name\" in result):\n",
        "\t\t\tname = result[\"name\"][\"value\"]\n",
        "\t\telse:\n",
        "\t\t\tname = 'NONE'  \t\t\n",
        "\t\tif (\"birthdate\" in result):\n",
        "\t\t\tbirthdate = result[\"birthdate\"][\"value\"]\n",
        "\t\telse:\n",
        "\t\t\tbirthdate = 'NONE'        \n",
        "\t\tif (\"description\" in result):\n",
        "\t\t\tdescription = result[\"description\"][\"value\"]\n",
        "\t\telse:\n",
        "\t\t\tdescription = ' '  \n",
        "\t\tif (\"thumbnail\" in result):\n",
        "\t\t\tpic = result[\"thumbnail\"][\"value\"]\n",
        "\t\telse:\n",
        "\t\t\tpic = 'https://upload.wikimedia.org/wikipedia/commons/thumb/b/b0/Question_mark2.svg/71px-Question_mark2.svg.png'   \n",
        "\n",
        "\t\t#parse date as datetime\n",
        "\t\tdt = datetime.strptime(birthdate, '%Y-%m-%d')\n",
        "  \n",
        "\t\tf.write('<tr><td><b>{}</b></td> <td style=\"text-center: justify;\"><img src=\"{}\" height=\"60px\"></td><td style=\"text-align: justify;\"><a href=\"{}\">{}</a>, {} </td></tr>'.format(dt.year, pic.replace(\"300\", \"60\"), wikiurl, name, description))\n",
        "\tf.write('</table>')\n",
        "\tf.write('</body></html>')\n",
        "files.download('birthday.html')"
      ],
      "execution_count": null,
      "outputs": [
        {
          "output_type": "display_data",
          "data": {
            "application/javascript": [
              "\n",
              "    async function download(id, filename, size) {\n",
              "      if (!google.colab.kernel.accessAllowed) {\n",
              "        return;\n",
              "      }\n",
              "      const div = document.createElement('div');\n",
              "      const label = document.createElement('label');\n",
              "      label.textContent = `Downloading \"${filename}\": `;\n",
              "      div.appendChild(label);\n",
              "      const progress = document.createElement('progress');\n",
              "      progress.max = size;\n",
              "      div.appendChild(progress);\n",
              "      document.body.appendChild(div);\n",
              "\n",
              "      const buffers = [];\n",
              "      let downloaded = 0;\n",
              "\n",
              "      const channel = await google.colab.kernel.comms.open(id);\n",
              "      // Send a message to notify the kernel that we're ready.\n",
              "      channel.send({})\n",
              "\n",
              "      for await (const message of channel.messages) {\n",
              "        // Send a message to notify the kernel that we're ready.\n",
              "        channel.send({})\n",
              "        if (message.buffers) {\n",
              "          for (const buffer of message.buffers) {\n",
              "            buffers.push(buffer);\n",
              "            downloaded += buffer.byteLength;\n",
              "            progress.value = downloaded;\n",
              "          }\n",
              "        }\n",
              "      }\n",
              "      const blob = new Blob(buffers, {type: 'application/binary'});\n",
              "      const a = document.createElement('a');\n",
              "      a.href = window.URL.createObjectURL(blob);\n",
              "      a.download = filename;\n",
              "      div.appendChild(a);\n",
              "      a.click();\n",
              "      div.remove();\n",
              "    }\n",
              "  "
            ],
            "text/plain": [
              "<IPython.core.display.Javascript object>"
            ]
          },
          "metadata": {
            "tags": []
          }
        },
        {
          "output_type": "display_data",
          "data": {
            "application/javascript": [
              "download(\"download_51fad373-fd39-4c75-a184-d767084fb858\", \"birthday.html\", 32436)"
            ],
            "text/plain": [
              "<IPython.core.display.Javascript object>"
            ]
          },
          "metadata": {
            "tags": []
          }
        }
      ]
    },
    {
      "cell_type": "markdown",
      "metadata": {
        "id": "OaRYLv2jgzYG"
      },
      "source": [
        "The html file can also directly be displayed in colab. Thanks to [KWB](https://open.hpi.de/users/1d38cda1-5e2c-440b-92f1-5ca9f14f56bd)."
      ]
    },
    {
      "cell_type": "code",
      "metadata": {
        "colab": {
          "base_uri": "https://localhost:8080/",
          "height": 1000
        },
        "id": "6gTggAEqf_IM",
        "outputId": "01d44530-05ad-4147-af54-41d15037b8dc"
      },
      "source": [
        "import IPython\n",
        "IPython.display.HTML('birthday.html')"
      ],
      "execution_count": null,
      "outputs": [
        {
          "output_type": "execute_result",
          "data": {
            "text/html": [
              "<html><head><title>Scientific Birthdays of Today</title></head><table style=\"width:75%\"><tr><td><b>1700</b></td> <td style=\"text-center: justify;\"><img src=\"http://commons.wikimedia.org/wiki/Special:FilePath/The_Reverend_Nathaniel_Bliss.jpg?width=60\" height=\"60px\"></td><td style=\"text-align: justify;\"><a href=\"http://en.wikipedia.org/wiki/Nathaniel_Bliss\">Nathaniel Bliss</a>, The Reverend Nathaniel Bliss (28 November 1700 – 2 September 1764) was an English astronomer of the 18th century, serving as Britain's fourth Astronomer Royal between 1762 and 1764. </td></tr><tr><td><b>1772</b></td> <td style=\"text-center: justify;\"><img src=\"http://commons.wikimedia.org/wiki/Special:FilePath/Luke_Howard.jpg?width=60\" height=\"60px\"></td><td style=\"text-align: justify;\"><a href=\"http://en.wikipedia.org/wiki/Luke_Howard\">Luke Howard</a>, Luke Howard, FRS (28 November 1772 – 21 March 1864) was a British manufacturing chemist and an amateur meteorologist with broad interests in science. His lasting contribution to science is a nomenclature system for clouds, which he proposed in an 1802 presentation to the Askesian Society. </td></tr><tr><td><b>1805</b></td> <td style=\"text-center: justify;\"><img src=\"http://commons.wikimedia.org/wiki/Special:FilePath/Incidents_of_Travel_in_Central_America_portrait.png?width=60\" height=\"60px\"></td><td style=\"text-align: justify;\"><a href=\"http://en.wikipedia.org/wiki/John_Lloyd_Stephens\">John Lloyd Stephens</a>, John Lloyd Stephens was born November 28, 1805, in the township of Shrewsbury, New Jersey. He was the second son of Benjamin Stephens, a successful New Jersey merchant, and Clemence Lloyd, daughter of an eminent local judge. The following year the family moved to New York City. There Stephens received an education in the Classics at two privately tutored schools. At the early age of 13 he enrolled at Columbia College, graduating at the top of his class four years later in 1822. </td></tr><tr><td><b>1831</b></td> <td style=\"text-center: justify;\"><img src=\"http://commons.wikimedia.org/wiki/Special:FilePath/Roberts_Bartholow.jpg?width=60\" height=\"60px\"></td><td style=\"text-align: justify;\"><a href=\"http://en.wikipedia.org/wiki/Robert_Bartholow\">Robert Bartholow</a>, Robert Bartholow or Roberts Bartholow (November 28, 1831 – May 10, 1904) was an American physician from New Windsor, Maryland. He earned his degree in medicine from the University of Maryland in 1852. From 1855 to 1864 he was a surgeon in the U.S. Army. From 1864 to 1879 he was a professor at the Medical College of Ohio in Cincinnati. Afterwards he was a professor at the Jefferson Medical College in Philadelphia. </td></tr><tr><td><b>1834</b></td> <td style=\"text-center: justify;\"><img src=\"http://commons.wikimedia.org/wiki/Special:FilePath/LaspeyresE.jpg?width=60\" height=\"60px\"></td><td style=\"text-align: justify;\"><a href=\"http://en.wikipedia.org/wiki/Étienne_Laspeyres\">Étienne Laspeyres</a>, Ernst Louis Étienne Laspeyres (28 November 1834 – 4 August 1913) was Professor ordinarius of economics and statistics or State Sciences and cameralistics (public finance and administration) in Basel, Riga, Dorpat (now Tartu), Karlsruhe, and finally for 26 years in Gießen. Laspeyres was the scion of a Huguenot family of originally Gascon descent which had settled in Berlin in the 17th century, and he emphasised the Occitan pronunciation of his name as a link to his Gascon origins. </td></tr><tr><td><b>1837</b></td> <td style=\"text-center: justify;\"><img src=\"http://commons.wikimedia.org/wiki/Special:FilePath/Dr._Noah_Miller_Glatfelter_1901.jpg?width=60\" height=\"60px\"></td><td style=\"text-align: justify;\"><a href=\"http://en.wikipedia.org/wiki/Noah_Miller_Glatfelter\">Noah Miller Glatfelter</a>, Dr. Noah Miller Glatfelter was an American physician, genealogist, and amateur botanist and mycologist who lived in St. Louis, Missouri between 1867 and 1911. He served as a surgeon for the Union Army during the American Civil War, and was in private practice as a physician from the 1870s to 1907. In retirement his interests turned to botany and mycology; seven fungi have been named for him. </td></tr><tr><td><b>1848</b></td> <td style=\"text-center: justify;\"><img src=\"http://commons.wikimedia.org/wiki/Special:FilePath/Поль-Шарль_Дюбуа_(Paul-Charles_Dubois).jpg?width=60\" height=\"60px\"></td><td style=\"text-align: justify;\"><a href=\"http://en.wikipedia.org/wiki/Paul_Charles_Dubois\">Paul Charles Dubois</a>, He studied medicine at the University of Bern, and in 1876 was a general practitioner of medicine in Bern. He was interested in psychosomatic medicine, eventually gaining a reputation as a highly regarded psychotherapist. In 1902 he became a professor of neuropathology at Bern. Dubois was influenced by the writings of German psychiatrist Johann Christian August Heinroth (1773–1843). Dubois is known for the introduction of \"persuasion therapy\", a process that employed a rational approach for treatment of neurotic disorders. Within this discipline, he developed a psychotherapeutic methodology that was a form of Socratic dialogue, using the doctor-patient relationship as a means to persuade the patient to change his/her behavior. He believed it was necessary to appeal to a patient's intellect </td></tr><tr><td><b>1851</b></td> <td style=\"text-center: justify;\"><img src=\"http://commons.wikimedia.org/wiki/Special:FilePath/Philip_Herfort2.jpg?width=60\" height=\"60px\"></td><td style=\"text-align: justify;\"><a href=\"http://en.wikipedia.org/wiki/Philip_A._Herfort\">Philip A. Herfort</a>, Philip Adolph Herfort (November 28, 1851 – March 24, 1921) was a German violinist and orchestra leader. He was born in Berlin, Germany to Jewish parents, Adolph (Aron) Herfort (1818–1900) and Clara Herfort (1830–1907) née Maass. Philip Herfort married Antonie Theodore Johanne Lupprian on December 15, 1877 in New York City and fathered four children: Sophie (1879–1966), Paul (1880–1967), Gunther (1888–1986), and Walter (1886–1887). Philip Herfort died on March 24, 1921 in Brooklyn, New York and is buried in Green-Wood Cemetery. </td></tr><tr><td><b>1854</b></td> <td style=\"text-center: justify;\"><img src=\"http://commons.wikimedia.org/wiki/Special:FilePath/Gottlieb_Haberlandt.jpg?width=60\" height=\"60px\"></td><td style=\"text-align: justify;\"><a href=\"http://en.wikipedia.org/wiki/Gottlieb_Haberlandt\">Gottlieb Haberlandt</a>, Gottlieb Haberlandt (28 November 1854, Ungarisch-Altenburg (present day Magyaróvár) – 30 January 1945, Berlin) was an Austrian botanist. He was the son of European 'soybean' pioneer Professor Friedrich J. Haberlandt. His son Ludwig Haberlandt was an early reproductive physiologist now given credit as the 'grandfather' of the birth control pill, the pill. The more efficient C-4 photosynthesis in land plants depends on a specialized Kranz (German for wreath) leaf anatomy History of C3 : C4 photosynthesis research first described by Gottlieb Haberlandt in 1904 </td></tr><tr><td><b>1858</b></td> <td style=\"text-center: justify;\"><img src=\"http://commons.wikimedia.org/wiki/Special:FilePath/William-Stanley_jr.jpg?width=60\" height=\"60px\"></td><td style=\"text-align: justify;\"><a href=\"http://en.wikipedia.org/wiki/William_Stanley_Jr.\">William Stanley Jr.</a>, William Stanley Jr. (November 28, 1858 – May 14, 1916) was an American physicist born in Brooklyn, New York. In his career, he obtained 129 patents covering a variety of electric devices. In 1913, he also patented an all-steel vacuum bottle, and formed the Stanley Bottle Company. </td></tr><tr><td><b>1863</b></td> <td style=\"text-center: justify;\"><img src=\"http://commons.wikimedia.org/wiki/Special:FilePath/Arthur_Gordon_Webster.png?width=60\" height=\"60px\"></td><td style=\"text-align: justify;\"><a href=\"http://en.wikipedia.org/wiki/Arthur_Gordon_Webster\">Arthur Gordon Webster</a>, Arthur Gordon Webster (November 28, 1863 – May 15, 1923), physicist, was a founder and president of the American Physical Society. </td></tr><tr><td><b>1869</b></td> <td style=\"text-center: justify;\"><img src=\"http://commons.wikimedia.org/wiki/Special:FilePath/Albert_Jenks_portrait.jpg?width=60\" height=\"60px\"></td><td style=\"text-align: justify;\"><a href=\"http://en.wikipedia.org/wiki/Albert_Jenks\">Albert Jenks</a>, Albert Ernest Jenks (1869–1953) was an American anthropologist and a professor at the University of Minnesota. He was known for his work in historical anthropological studies on rice cultivation, the development of hominids, and his identification of the skeletal remains of Minnesota Woman, 8,000-year old human remains found near Pelican Rapids, Minnesota. He joined the United States Bureau of Ethnology in 1901 and served in the U.S. colonial government of the Philippines from 1902 to 1905. In this capacity, he was involved in the exhibition of Bontoc Igorot people at the 1904 Louisiana Universal Exposition in St. Louis (St. Louis World's Fair). The collection of Bontoc objects that he assembled for the Exposition was purchased by the American Museum of Natural History in New York. He join </td></tr><tr><td><b>1876</b></td> <td style=\"text-center: justify;\"><img src=\"http://commons.wikimedia.org/wiki/Special:FilePath/Oscar_Edward_Meinzer_photo.jpeg?width=60\" height=\"60px\"></td><td style=\"text-align: justify;\"><a href=\"http://en.wikipedia.org/wiki/Oscar_Edward_Meinzer\">Oscar Edward Meinzer</a>, Oscar Edward Meinzer (November 28, 1876 – June 14, 1948) was an American hydrogeologist who has been called the \"father of modern groundwater hydrology\". He was awarded the William Bowie Medal in 1943. The O. E. Meinzer award is named for him. </td></tr><tr><td><b>1896</b></td> <td style=\"text-center: justify;\"><img src=\"http://commons.wikimedia.org/wiki/Special:FilePath/J.Koffler31.jpg?width=60\" height=\"60px\"></td><td style=\"text-align: justify;\"><a href=\"http://en.wikipedia.org/wiki/Józef_Koffler\">Józef Koffler</a>, Józef Koffler (28 November 1896 – 1944) was a Polish composer, music teacher, musicologist and musical columnist. He was the first Polish composer living before the Second World War to apply the twelve-tone composition technique (dodecaphony). </td></tr><tr><td><b>1896</b></td> <td style=\"text-center: justify;\"><img src=\"http://commons.wikimedia.org/wiki/Special:FilePath/1933_Andrussow_Leonid.jpg?width=60\" height=\"60px\"></td><td style=\"text-align: justify;\"><a href=\"http://en.wikipedia.org/wiki/Leonid_Andrussow\">Leonid Andrussow</a>, Leonid Andrussow (28 November 1896 in Riga – 15 December 1988 near Paris) was a German chemical engineer. He developed the process for the production of hydrogen cyanide based on the oxidation of ammonia and methane, which is named after him Andrussow oxidation. </td></tr><tr><td><b>1898</b></td> <td style=\"text-center: justify;\"><img src=\"http://commons.wikimedia.org/wiki/Special:FilePath/JohnWishart.jpg?width=60\" height=\"60px\"></td><td style=\"text-align: justify;\"><a href=\"http://en.wikipedia.org/wiki/John_Wishart_(statistician)\">John Wishart (statistician)</a>, Dr John Wishart FRSE (28 November 1898 – 14 July 1956) was a Scottish mathematician and agricultural statistician. He worked successively at University College London with Karl Pearson, at Rothamsted Experimental Station with Ronald Fisher, and then as a leader in statistics in the University of Cambridge where he became the first Director of the Statistical Laboratory in 1953. He was elected a Fellow of the Royal Society of Edinburgh in 1931, and edited Biometrika from 1937. In 1950 he was elected as a Fellow of the American Statistical Association. The Wishart distribution is named after him. </td></tr><tr><td><b>1905</b></td> <td style=\"text-center: justify;\"><img src=\"https://upload.wikimedia.org/wikipedia/commons/thumb/b/b0/Question_mark2.svg/71px-Question_mark2.svg.png\" height=\"60px\"></td><td style=\"text-align: justify;\"><a href=\"http://en.wikipedia.org/wiki/Albert_W._Tucker\">Albert W. Tucker</a>, Albert William Tucker (28 November 1905 – 25 January 1995) was a Canadian mathematician who made important contributions in topology, game theory, and non-linear programming. </td></tr><tr><td><b>1905</b></td> <td style=\"text-center: justify;\"><img src=\"https://upload.wikimedia.org/wikipedia/commons/thumb/b/b0/Question_mark2.svg/71px-Question_mark2.svg.png\" height=\"60px\"></td><td style=\"text-align: justify;\"><a href=\"http://en.wikipedia.org/wiki/Clarence_Ray_Carpenter\">Clarence Ray Carpenter</a>, Clarence Ray Carpenter (usually credited as C. R. Carpenter) (November 28, 1905 – March 1, 1975) was an American primatologist who was one of the first scientific investigators to film and videotape the behavior of primates in their natural environments. Born in Cherryville in Lincoln County, North Carolina, Carpenter earned his Bachelor of Science (1928) and Master of Science (1929) degrees at Duke University and his Doctor of Philosophy (1932) degree at Stanford University. </td></tr><tr><td><b>1906</b></td> <td style=\"text-center: justify;\"><img src=\"http://en.wikipedia.org/wiki/Special:FilePath/Leonidas_D_Marinelli.png?width=60\" height=\"60px\"></td><td style=\"text-align: justify;\"><a href=\"http://en.wikipedia.org/wiki/Leonidas_D._Marinelli\">Leonidas D. Marinelli</a>, Leonidas D. Marinelli (28 November 1906 – 13 September 1974), was born in Argentina and died in Hinsdale, DuPage County, Illinois was an American radiologist, health physicist and inventor. </td></tr><tr><td><b>1907</b></td> <td style=\"text-center: justify;\"><img src=\"http://commons.wikimedia.org/wiki/Special:FilePath/Hallam_L_Movius.jpg?width=60\" height=\"60px\"></td><td style=\"text-align: justify;\"><a href=\"http://en.wikipedia.org/wiki/Hallam_L._Movius\">Hallam L. Movius</a>, Hallam Leonard Movius (1907–1987) was an American archaeologist most famous for his work on the Palaeolithic period. </td></tr><tr><td><b>1913</b></td> <td style=\"text-center: justify;\"><img src=\"https://upload.wikimedia.org/wikipedia/commons/thumb/b/b0/Question_mark2.svg/71px-Question_mark2.svg.png\" height=\"60px\"></td><td style=\"text-align: justify;\"><a href=\"http://en.wikipedia.org/wiki/Cliff_Addison\">Cliff Addison</a>, Addison was a member of the Chemical Inspection Department, Ministry of Supply from 1939 to 1945. He was Lecturer, Reader and Professor of Inorganic Chemistry, University of Nottingham from 1946 to 1978, and Leverhulme Emeritus Professor from 1978 to 1994. </td></tr><tr><td><b>1914</b></td> <td style=\"text-center: justify;\"><img src=\"https://upload.wikimedia.org/wikipedia/commons/thumb/b/b0/Question_mark2.svg/71px-Question_mark2.svg.png\" height=\"60px\"></td><td style=\"text-align: justify;\"><a href=\"http://en.wikipedia.org/wiki/Arthur_Wilson_(crystallographer)\">Arthur Wilson (crystallographer)</a>, Arthur James Cochran Wilson, FRS (28 November 1914 - 1 July 1995) was a Canadian crystallographer. He was born in Springhill, Nova Scotia. He was educated at King's Collegiate School, Windsor, Nova Scotia and Dalhousie University, Halifax, Nova Scotia where he was awarded a BSc in 1934 and an MSc in 1936. He then proceeded to the Massachusetts Institute of Technology, where he received his first PhD in 1938 on the anomalous thermal behaviour of the ferro-electric Rochelle salt. In 1963 he was elected a Fellow of the Royal Society. </td></tr><tr><td><b>1915</b></td> <td style=\"text-center: justify;\"><img src=\"https://upload.wikimedia.org/wikipedia/commons/thumb/b/b0/Question_mark2.svg/71px-Question_mark2.svg.png\" height=\"60px\"></td><td style=\"text-align: justify;\"><a href=\"http://en.wikipedia.org/wiki/Bryant_Tuckerman\">Bryant Tuckerman</a>, Louis Bryant Tuckerman, III (November 28, 1915 – May 19, 2002) was an American mathematician, born in Lincoln, Nebraska. He was a member of the team that developed the Data Encryption Standard (DES). He studied topology at Princeton, where he invented the Tuckerman traverse method for revealing all the faces of a flexagon. Also, on March 4, 1971, he discovered the 24th Mersenne prime, a titanic prime, with a value of . </td></tr><tr><td><b>1916</b></td> <td style=\"text-center: justify;\"><img src=\"https://upload.wikimedia.org/wikipedia/commons/thumb/b/b0/Question_mark2.svg/71px-Question_mark2.svg.png\" height=\"60px\"></td><td style=\"text-align: justify;\"><a href=\"http://en.wikipedia.org/wiki/Boris_Bittker\">Boris Bittker</a>, Boris Irving Bittker (November 28, 1916 – September 8, 2005) was a prominent United States legal academician. A professor at Yale Law School, Bittker was a prolific author, writing many textbooks and over one hundred articles on tax law. In 1973, Bittker wrote The Case for Black Reparations, inspired by SNCC leader James Forman, who in 1969 interrupted a church service to demand reparations for slavery. Bittker defended the spirit of Forman's appeal, but argued that a reparations lawsuit for school segregation had a stronger legal basis. </td></tr><tr><td><b>1918</b></td> <td style=\"text-center: justify;\"><img src=\"https://upload.wikimedia.org/wikipedia/commons/thumb/b/b0/Question_mark2.svg/71px-Question_mark2.svg.png\" height=\"60px\"></td><td style=\"text-align: justify;\"><a href=\"http://en.wikipedia.org/wiki/Peter_M._Holt\">Peter M. Holt</a>, Peter Malcolm Holt, FBA (28 November 1918 – 2 November 2006) was a historian of the Middle East and Sudan in particular. </td></tr><tr><td><b>1922</b></td> <td style=\"text-center: justify;\"><img src=\"https://upload.wikimedia.org/wikipedia/commons/thumb/b/b0/Question_mark2.svg/71px-Question_mark2.svg.png\" height=\"60px\"></td><td style=\"text-align: justify;\"><a href=\"http://en.wikipedia.org/wiki/Meyer_Jerison\">Meyer Jerison</a>, Meyer Jerison (November 28, 1922 – March 13, 1995) was an American mathematician known for his work in functional analysis and rings, and especially for collaborating with Leonard Gillman on one of the standard texts in the field: Rings of Continuous Functions. Jerison worked briefly at NACA in Cleveland and at Lockheed Corporation. He joined the mathematics faculty at Purdue University in 1951, where he spent the remainder of his career, retiring in 1991. </td></tr><tr><td><b>1924</b></td> <td style=\"text-center: justify;\"><img src=\"http://commons.wikimedia.org/wiki/Special:FilePath/Prof._Herwig_Schopper_was_the_Director_General_of_CERN_(1981-1988).jpg?width=60\" height=\"60px\"></td><td style=\"text-align: justify;\"><a href=\"http://en.wikipedia.org/wiki/Herwig_Schopper\">Herwig Schopper</a>, Herwig Franz Schopper, (born on 28 February 1924) is an experimental physicist and was the Director General of CERN from 1981 to 1988. </td></tr><tr><td><b>1926</b></td> <td style=\"text-center: justify;\"><img src=\"https://upload.wikimedia.org/wikipedia/commons/thumb/b/b0/Question_mark2.svg/71px-Question_mark2.svg.png\" height=\"60px\"></td><td style=\"text-align: justify;\"><a href=\"http://en.wikipedia.org/wiki/Vincent_Massey_(enzymologist)\">Vincent Massey (enzymologist)</a>, Vincent Massey (November 28, 1926 – August 26, 2002) was an Australian biochemist and enzymologist best known for his contributions to the study of flavoenzymes. Massey was elected to the National Academy of Sciences in 1995 for his use of physical biochemistry to relate flavin chemistry to flavin enzymology. </td></tr><tr><td><b>1931</b></td> <td style=\"text-center: justify;\"><img src=\"http://commons.wikimedia.org/wiki/Special:FilePath/Фото_Федорова.jpg?width=60\" height=\"60px\"></td><td style=\"text-align: justify;\"><a href=\"http://en.wikipedia.org/wiki/Irina_Konstantinovna_Feodorova\">Irina Konstantinovna Feodorova</a>, Feodorova was born in Leningrad in 1931. Her father, Konstantin Andreevich Mozhajsky, worked in a printing house. Her mother, Lydia Romanovna Steinberg taught German at schools in Leningrad. Feodorova and her husband, Mikhail Lvovich Fedorov, had one daughter, Olga Fedorova. </td></tr><tr><td><b>1935</b></td> <td style=\"text-center: justify;\"><img src=\"https://upload.wikimedia.org/wikipedia/commons/thumb/b/b0/Question_mark2.svg/71px-Question_mark2.svg.png\" height=\"60px\"></td><td style=\"text-align: justify;\"><a href=\"http://en.wikipedia.org/wiki/Robert_Shapiro_(chemist)\">Robert Shapiro (chemist)</a>, Robert Shapiro (28 November 1935 – 15 June 2011) was professor emeritus of chemistry at New York University. He is best known for his work on the origin of life, having written two books on the topic: Origins, a Skeptic’s Guide to the Creation of Life on Earth (1986) and Planetary Dreams (2001). He opposed the RNA world hypothesis, and held that the spontaneous emergence of a molecule as complicated as RNA is highly unlikely. Instead, he proposed that life arose from some self-sustaining and compartmentalized reaction of simple molecules: \"metabolism first\" instead of \"RNA first\". This reaction would have to be able to reproduce and evolve, eventually leading to RNA. He claimed that in this view life is a normal consequence of the laws of nature and potentially quite common in the universe </td></tr><tr><td><b>1939</b></td> <td style=\"text-center: justify;\"><img src=\"https://upload.wikimedia.org/wikipedia/commons/thumb/b/b0/Question_mark2.svg/71px-Question_mark2.svg.png\" height=\"60px\"></td><td style=\"text-align: justify;\"><a href=\"http://en.wikipedia.org/wiki/Madhab_Chandra_Dash\">Madhab Chandra Dash</a>, Madhab Chandra Dash (born 1939 in Puri, Odisha) is an Indian ecologist and environmental biologist. He is currently a member of the Appellate Authority, Water (PCP) Act, 1974 Government of Orissa. He was a former Vice Chancellor of Sambalpur University (2001-2004). He is a past Chairman of the Orissa State Pollution Control Board (1997-2001) and a former member of the Central Pollution Control Board, New Delhi. </td></tr><tr><td><b>1940</b></td> <td style=\"text-center: justify;\"><img src=\"http://commons.wikimedia.org/wiki/Special:FilePath/StevenBrams.jpg?width=60\" height=\"60px\"></td><td style=\"text-align: justify;\"><a href=\"http://en.wikipedia.org/wiki/Steven_Brams\">Steven Brams</a>, Steven J. Brams (born November 28, 1940, in Concord, New Hampshire) is an American game theorist and political scientist at the New York University Department of Politics. Brams is best known for using the techniques of game theory, public choice theory, and social choice theory to analyze voting systems and fair division. He is one of the independent discoverers of approval voting, as well as an extension of approval voting to multiple-winner elections known as Satisfaction approval voting. </td></tr><tr><td><b>1941</b></td> <td style=\"text-center: justify;\"><img src=\"http://commons.wikimedia.org/wiki/Special:FilePath/Moody_Baake.jpg?width=60\" height=\"60px\"></td><td style=\"text-align: justify;\"><a href=\"http://en.wikipedia.org/wiki/Robert_Moody\">Robert Moody</a>, Robert Vaughan Moody, OC FRSC (/ˈmuːdi/; born November 28, 1941) is a Canadian mathematician. He is the co-discover of Kac–Moody algebra, a Lie algebra, usually infinite-dimensional, that can be defined through a generalized root system. Born in Great Britain, he received a Bachelor of Arts in Mathematics in 1962 from the University of Saskatchewan, a Master of Arts in Mathematics in 1964 from the University of Toronto, and a Ph.D. in Mathematics in 1966 from the University of Toronto. </td></tr><tr><td><b>1942</b></td> <td style=\"text-center: justify;\"><img src=\"http://commons.wikimedia.org/wiki/Special:FilePath/Brookhart_Maurice.jpg?width=60\" height=\"60px\"></td><td style=\"text-align: justify;\"><a href=\"http://en.wikipedia.org/wiki/Maurice_Brookhart\">Maurice Brookhart</a>, Maurice S. Brookhart is a Professor of Chemistry (2015 to the present) in the Department of Chemistry at the University of Houston. Brookhart received his Bachelor of Science from Johns Hopkins University in 1964. He received his Ph.D. in 1968 from the University of California, Los Angeles, in physical organic chemistry where his thesis advisor was Saul Winstein. After an NSF postdoctoral fellowship at the University of California, Los Angeles in 1968 and a NATO postdoctoral fellowship at Southampton University, England. In 1969, he joined the faculty of the University of North Carolina, where he stayed until 2015, when he joined the University of Houston as a professor of Chemistry. </td></tr><tr><td><b>1942</b></td> <td style=\"text-center: justify;\"><img src=\"http://en.wikipedia.org/wiki/Special:FilePath/Victor_Fadin_Lecturing_in_BINP_1_June_2014.jpg?width=60\" height=\"60px\"></td><td style=\"text-align: justify;\"><a href=\"http://en.wikipedia.org/wiki/Victor_Sergeevich_Fadin\">Victor Sergeevich Fadin</a>, Victor Sergeevich Fadin (Russian: Виктор Сергеевич Фадин; born 28 November 1942, Poperechnoe village, Novosibirsk oblast) is a Russian physicist, well known for his contributions to theoretical physics and particle physics. He is a principal researcher at Budker Institute of Nuclear Physics (BINP) and professor of theoretical physics at Novosibirsk State University (NSU). </td></tr><tr><td><b>1946</b></td> <td style=\"text-center: justify;\"><img src=\"https://upload.wikimedia.org/wikipedia/commons/thumb/b/b0/Question_mark2.svg/71px-Question_mark2.svg.png\" height=\"60px\"></td><td style=\"text-align: justify;\"><a href=\"http://en.wikipedia.org/wiki/Klaus_G._Troitzsch\">Klaus G. Troitzsch</a>, Klaus G. Troitzsch (* 28. November 1946, in Ilsede-Oberg, Lower Saxony) is a German sociologist. He became famous for introducing the method of computer-based simulation in the social sciences. He was professor and director of the Institute for IS Research at University of Koblenz-Landau. </td></tr><tr><td><b>1947</b></td> <td style=\"text-center: justify;\"><img src=\"https://upload.wikimedia.org/wikipedia/commons/thumb/b/b0/Question_mark2.svg/71px-Question_mark2.svg.png\" height=\"60px\"></td><td style=\"text-align: justify;\"><a href=\"http://en.wikipedia.org/wiki/Inder_Verma\">Inder Verma</a>, Inder Mohan Verma (born November 28, 1947) is an American Cancer Society Professor of Molecular Biology in the Laboratory of Genetics at the Salk Institute for Biological Studies  and the University of California, San Diego. He is recognized for seminal discoveries in the fields of cancer, immunology, and gene therapy. Verma is the current editor-in-chief of the journal Proceedings of the National Academy of Sciences of the United States of America (PNAS).He is also the Jury Chair for the Infosys Prize 2013 for the discipline of Life Sciences. </td></tr><tr><td><b>1948</b></td> <td style=\"text-center: justify;\"><img src=\"http://commons.wikimedia.org/wiki/Special:FilePath/Alanlightman.jpg?width=60\" height=\"60px\"></td><td style=\"text-align: justify;\"><a href=\"http://en.wikipedia.org/wiki/Alan_Lightman\">Alan Lightman</a>, Alan Paige Lightman (born November 28, 1948) is an American physicist, writer, and social entrepreneur. He is a professor of the practice of the humanities at the Massachusetts Institute of Technology and the author of the international bestseller Einstein's Dreams. Einstein's Dreams has been adapted into dozens of independent theatrical productions and is one of the most widely used \"common books\" on college campuses. Lightman was the first professor at MIT to receive a joint appointment in the sciences and the humanities. He is also the founder of the Harpswell Foundation, a nonprofit organization whose mission is to empower a new generation of women leaders in Cambodia. </td></tr><tr><td><b>1950</b></td> <td style=\"text-center: justify;\"><img src=\"http://commons.wikimedia.org/wiki/Special:FilePath/HD.3A.054_(10541035993).jpg?width=60\" height=\"60px\"></td><td style=\"text-align: justify;\"><a href=\"http://en.wikipedia.org/wiki/Russell_Alan_Hulse\">Russell Alan Hulse</a>, Russell Alan Hulse (born November 28, 1950) is an American physicist and winner of the Nobel Prize in Physics, shared with his thesis advisor Joseph Hooton Taylor Jr., \"for the discovery of a new type of pulsar, a discovery that has opened up new possibilities for the study of gravitation\". He was a specialist in the pulsar studies and gravitational waves. </td></tr><tr><td><b>1950</b></td> <td style=\"text-center: justify;\"><img src=\"http://commons.wikimedia.org/wiki/Special:FilePath/Victor_Bangert.jpg?width=60\" height=\"60px\"></td><td style=\"text-align: justify;\"><a href=\"http://en.wikipedia.org/wiki/Victor_Bangert\">Victor Bangert</a>, Victor Bangert (born 28 November 1950, Osnabrück) is Professor of Mathematics at the Mathematisches Institut in Freiburg, Germany. His main interests are differential geometry and dynamical systems theory. In particular, he made important contributions to the study of closed geodesics in Riemannian manifolds, and to Aubry–Mather theory. </td></tr><tr><td><b>1950</b></td> <td style=\"text-center: justify;\"><img src=\"http://commons.wikimedia.org/wiki/Special:FilePath/Jitendranath_Goswami.jpg?width=60\" height=\"60px\"></td><td style=\"text-align: justify;\"><a href=\"http://en.wikipedia.org/wiki/Jitendra_Nath_Goswami\">Jitendra Nath Goswami</a>, Dr. Jitendranath Goswami  is a famous Indian scientist from Assam. He was the Chief Scientist of Chandrayaan-1, and also was developer of this project. He served as a director of Physical Research Laboratory situated at Ahmadabad, Gujarat. He was also associated with Chandrayaan-2 and Mangalyaan. This prominent Assamese Scientist was born in Jorhat, the knowledge city of Assam. </td></tr><tr><td><b>1952</b></td> <td style=\"text-center: justify;\"><img src=\"http://commons.wikimedia.org/wiki/Special:FilePath/Erich_Nigg_Wikipedia_110728_Biozentrum.jpg?width=60\" height=\"60px\"></td><td style=\"text-align: justify;\"><a href=\"http://en.wikipedia.org/wiki/Erich_Nigg\">Erich Nigg</a>, Erich Nigg is a Swiss cell biologist and Director of the Biozentrum, University of Basel. </td></tr><tr><td><b>1956</b></td> <td style=\"text-center: justify;\"><img src=\"http://commons.wikimedia.org/wiki/Special:FilePath/Gerald_Joyce.jpg?width=60\" height=\"60px\"></td><td style=\"text-align: justify;\"><a href=\"http://en.wikipedia.org/wiki/Gerald_Joyce\">Gerald Joyce</a>, Gerald Francis \"Jerry\" Joyce (born 1956) is a professor and researcher at The Scripps Research Institute, best known for his work on in vitro evolution of ribozymes and deoxyribozymes, as well as his work on the origin of life. Joyce received the Urey medal of the International Society for the Study of the Origin of Life (ISSOL) in 2005.In 2009, Joyce's lab was the first to produce a self-replicating in vitro system, capable of exponential growth and continuing evolution, composed entirely of RNA enzymes. </td></tr><tr><td><b>1960</b></td> <td style=\"text-center: justify;\"><img src=\"https://upload.wikimedia.org/wikipedia/commons/thumb/b/b0/Question_mark2.svg/71px-Question_mark2.svg.png\" height=\"60px\"></td><td style=\"text-align: justify;\"><a href=\"http://en.wikipedia.org/wiki/Emily_A._Carter\">Emily A. Carter</a>, Emily A. Carter (born November 28, 1960 in Los Gatos, California) is the Dean of the Princeton University School of Engineering and Applied Science and the Gerhard R. Andlinger Professor in Energy and the Environment, as well as a Professor in the Department of Mechanical and Aerospace Engineering and the Program in Applied and Computational Mathematics at Princeton University. She is an associated faculty member in the Andlinger Center for Energy and the Environment, the Department of Chemistry, the Department of Chemical and Biological Engineering, the Princeton Institute for Computational Science and Engineering (PICSciE), the Princeton Environmental Institute (PEI), and the Princeton Institute for the Science and Technology of Materials (PRISM). She was the Founding Director of the And </td></tr><tr><td><b>1975</b></td> <td style=\"text-center: justify;\"><img src=\"http://en.wikipedia.org/wiki/Special:FilePath/Michael-schearer.jpg?width=60\" height=\"60px\"></td><td style=\"text-align: justify;\"><a href=\"http://en.wikipedia.org/wiki/Michael_Schearer\">Michael Schearer</a>, Michael Schearer (born November 28, 1975) is an American computer security researcher and writer who is known for his research and presentations on the technology of improvised explosive devices, wireless security, cryptography, privacy, and related legal issues. He is a contributing author to multiple books on computer security, and is currently a Network Analyst for Booz Allen Hamilton. In the computer hacker community, he is known as theprez98. </td></tr></table></body></html>"
            ],
            "text/plain": [
              "<IPython.core.display.HTML object>"
            ]
          },
          "metadata": {
            "tags": []
          },
          "execution_count": 8
        }
      ]
    }
  ]
}